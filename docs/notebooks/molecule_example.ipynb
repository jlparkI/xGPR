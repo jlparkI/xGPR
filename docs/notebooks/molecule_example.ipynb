{
 "cells": [
  {
   "cell_type": "markdown",
   "id": "59dfa31a",
   "metadata": {},
   "source": [
    "## Example: Graph (small molecule) data\n",
    "\n",
    "For this example, we'll fit a model to predict atomization energy on\n",
    "the QM9 dataset, a widely used benchmark for this task with about 134,000\n",
    "molecules. The dataset needs some preprocessing to convert into\n",
    "a format we can use. We'll need the ase library to be\n",
    "installed for this.\n",
    "\n",
    "Molecules are a common form of graph data, and we can of course represent\n",
    "them in a variety of ways. Here we'll use a very simple approach: one-hot\n",
    "encode each atom type and weight it based on distance to a central atom.\n",
    "We then use a graph convolution kernel to pairwise compare all atomic\n",
    "environments in any two molecules.\n",
    "\n",
    "This is a *very* crude way to represent a molecule that discards a lot of information.\n",
    "Using more sophisticated\n",
    "representations, we can achieve performance competitive with state\n",
    "of the art. What's interesting about this simple representation,\n",
    "however, is that it can already achieve surprisingly good performance,\n",
    "with a mean absolute error of about 1 kcal / mol (the so-called\n",
    "\"chemical accuracy\" threshold), despite its simplicity, nicely\n",
    "demonstrating the usefulness of graph convolution kernels.\n",
    "\n",
    "All experiments here are using xGPR v0.3.5."
   ]
  },
  {
   "cell_type": "code",
   "execution_count": 1,
   "id": "c0c0c565",
   "metadata": {},
   "outputs": [
    {
     "name": "stderr",
     "output_type": "stream",
     "text": [
      "/ssd1/Documents/gp_proteins/venv_testing/lib/python3.10/site-packages/tqdm/auto.py:21: TqdmWarning: IProgress not found. Please update jupyter and ipywidgets. See https://ipywidgets.readthedocs.io/en/stable/user_install.html\n",
      "  from .autonotebook import tqdm as notebook_tqdm\n"
     ]
    }
   ],
   "source": [
    "import os\n",
    "import shutil\n",
    "import time\n",
    "import tarfile\n",
    "import wget\n",
    "import ase\n",
    "from ase.io import read\n",
    "import subprocess\n",
    "import random\n",
    "\n",
    "import pandas as pd\n",
    "import numpy as np\n",
    "import matplotlib.pyplot as plt\n",
    "from scipy.spatial import distance_matrix\n",
    "\n",
    "from xGPR import xGPRegression as xGPReg\n",
    "from xGPR import build_regression_dataset"
   ]
  },
  {
   "cell_type": "markdown",
   "id": "666a8321-3f8e-4471-97be-39c641d7628f",
   "metadata": {},
   "source": [
    "The next step retrieves the raw data. QM9 is fairly large, so this will take a minute..."
   ]
  },
  {
   "cell_type": "code",
   "execution_count": 2,
   "id": "214c5fa2",
   "metadata": {},
   "outputs": [
    {
     "name": "stdout",
     "output_type": "stream",
     "text": [
      "100% [........................................................................] 86144227 / 86144227"
     ]
    }
   ],
   "source": [
    "#Retrieving the raw data -- this might take a minute...\n",
    "qm9_yvals_url = \"https://deepchemdata.s3-us-west-1.amazonaws.com/datasets/qm9.csv\"\n",
    "qm9_xyz_url = \"https://figshare.com/ndownloader/files/3195389\"\n",
    "fname = wget.download(qm9_yvals_url)\n",
    "fname = wget.download(qm9_xyz_url)\n",
    "tarball = tarfile.open(fname)\n",
    "tarball.extractall(\"qm9_mols\")\n",
    "os.remove(fname)\n",
    "\n",
    "#We have to clean up the downloaded files a little.\n",
    "os.chdir(\"qm9_mols\")\n",
    "for f in os.listdir():\n",
    "    with open(f, \"r\") as fhandle:\n",
    "        raw_file = fhandle.readlines()\n",
    "    raw_file = [l.replace(\"*^\", \"e\") for l in raw_file]\n",
    "    with open(f, \"w+\") as fhandle:\n",
    "        for line in raw_file[:-3]:\n",
    "            fhandle.write(line)\n",
    "\n",
    "os.chdir(\"..\")"
   ]
  },
  {
   "cell_type": "code",
   "execution_count": 3,
   "id": "542c6c64",
   "metadata": {},
   "outputs": [],
   "source": [
    "os.chdir(\"qm9_mols\")\n",
    "xfiles = [os.path.abspath(f) for f in os.listdir()]\n",
    "xfiles.sort()\n",
    "\n",
    "#The common practice for this in the literature\n",
    "#has been to use 110,000 mols for training,\n",
    "#remainder for test & validation. We'll follow\n",
    "#that here.\n",
    "random.seed(123)\n",
    "random.shuffle(xfiles)\n",
    "\n",
    "train_x, test_x = xfiles[:110000], xfiles[110000:]\n",
    "\n",
    "os.chdir(\"..\")\n",
    "\n",
    "labels = pd.read_csv(\"qm9.csv\")\n",
    "mol_dict = { k.split(\"_\")[-1]:v for (k,v) in zip(labels.mol_id.tolist(), labels.u298_atom.tolist())} "
   ]
  },
  {
   "cell_type": "markdown",
   "id": "3ccc1819",
   "metadata": {},
   "source": [
    "Here we encode each molecule as a matrix where each row is one atom; the features\n",
    "in that row are one-hot encodings of all other atoms (out to the nearest 15)\n",
    "weighted by how far away they are, using 1/r**6 weighting (this is\n",
    "used to construct a London matrix, which is why we use it here).\n",
    "This could easily be optimized for faster feature generation if desired,\n",
    "but again, our goal here is merely a simple demonstration. Notice that just as\n",
    "for sequences, we record the \"sequence length\" (i.e. number of nodes in the graph)\n",
    "for each molecule. This way, xGPR can mask the zero-padding we add to the end of\n",
    "each graph so that all are the same length. If we set the sequence length to be the\n",
    "same for every datapoint, however, then the zero-padding is not masked. In general, it's usually preferable to mask\n",
    "zero-padding, unless the size of an input communicates some useful information about that datapoint."
   ]
  },
  {
   "cell_type": "code",
   "execution_count": 4,
   "id": "b479ff9a",
   "metadata": {},
   "outputs": [],
   "source": [
    "def encode_mols(x_file_list, y_value_dict, chunk_size, ftype = \"train\"):\n",
    "    x_batch, y_batch, seqlen_batch = [], [], []\n",
    "    fcounter = 0\n",
    "\n",
    "    atom_key = {\"H\":0, \"C\":1, \"O\":2, \"N\":3, \"F\":4}\n",
    "    num_atom_types = len(atom_key)\n",
    "    max_partners = 15\n",
    "    \n",
    "    for xfile in x_file_list:\n",
    "        #Each molecule has up to 29 atoms\n",
    "        output_mat = np.zeros((29, num_atom_types * max_partners), dtype=np.float32)\n",
    "\n",
    "        mol = read(xfile)\n",
    "        f_key = str(int(xfile.split(\"_\")[-1].split(\".xyz\")[0]))\n",
    "        y_batch.append(y_value_dict[f_key])\n",
    "\n",
    "        positions, symbols = mol.get_positions(), mol.get_chemical_symbols()\n",
    "        dist_mat = distance_matrix(positions, positions)\n",
    "        idx_by_dist = np.argsort(dist_mat, axis=1)\n",
    "\n",
    "        for i, symbol in enumerate(symbols):\n",
    "            #One-hot encode the central atom\n",
    "            output_mat[i,atom_key[symbol]] = 1\n",
    "            for j, idx in enumerate(idx_by_dist[i,1:max_partners].tolist()):\n",
    "                atom_offset = (j + 1) * num_atom_types + atom_key[symbols[idx]]\n",
    "                output_mat[i, atom_offset] = 1 / dist_mat[i,idx]**6\n",
    "\n",
    "        x_batch.append(output_mat)\n",
    "        seqlen_batch.append(len(symbols))\n",
    "        \n",
    "        if len(x_batch) >= chunk_size:\n",
    "            np.save(f\"{ftype}_{fcounter}_xbatch.npy\", np.stack(x_batch))\n",
    "            np.save(f\"{ftype}_{fcounter}_ybatch.npy\", np.asarray(y_batch))\n",
    "            np.save(f\"{ftype}_{fcounter}_seqlen.npy\", np.array(seqlen_batch))\n",
    "            x_batch, y_batch, seqlen_batch = [], [], []\n",
    "            fcounter += 1"
   ]
  },
  {
   "cell_type": "code",
   "execution_count": 5,
   "id": "7463430e",
   "metadata": {},
   "outputs": [],
   "source": [
    "#We now encode all the raw data...this might take a minute.\n",
    "encode_mols(train_x, mol_dict, chunk_size = 1000, ftype=\"train\")\n",
    "encode_mols(test_x, mol_dict, chunk_size = 1000, ftype=\"test\")"
   ]
  },
  {
   "cell_type": "code",
   "execution_count": 6,
   "id": "2fc07b4e",
   "metadata": {},
   "outputs": [],
   "source": [
    "train_x_files = [f for f in os.listdir() if f.startswith(\"train\") and f.endswith(\"xbatch.npy\")]\n",
    "test_x_files = [f for f in os.listdir() if f.startswith(\"test\") and f.endswith(\"xbatch.npy\")]\n",
    "\n",
    "train_y_files = [f.replace(\"xbatch\", \"ybatch\") for f in train_x_files]\n",
    "test_y_files = [f.replace(\"xbatch\", \"ybatch\") for f in test_x_files]\n",
    "\n",
    "train_seqlen_files = [f.replace(\"xbatch\", \"seqlen\") for f in train_x_files]\n",
    "test_seqlen_files = [f.replace(\"xbatch\", \"seqlen\") for f in test_x_files]"
   ]
  },
  {
   "cell_type": "markdown",
   "id": "b2e67227-56d8-41b8-a167-c882b9a41f69",
   "metadata": {},
   "source": [
    "Notice how we supply a third argument -- the list of files containing sequence lengths -- here. The third\n",
    "argument defaults to None, which is what we would supply if using a fixed-length vector kernel. For\n",
    "3d array data (sequences, graphs) by contrast, the third argument (sequence / graph lengths) is required.\n",
    "The chunk size just has to be an integer larger than the largest file in the dataset; the dataset builder\n",
    "will just check to make sure all our files contain <= that number of datapoints."
   ]
  },
  {
   "cell_type": "code",
   "execution_count": 7,
   "id": "d0f973f0",
   "metadata": {},
   "outputs": [],
   "source": [
    "train_dset = build_regression_dataset(train_x_files, train_y_files, train_seqlen_files, chunk_size = 1000)"
   ]
  },
  {
   "cell_type": "markdown",
   "id": "0bf0213c",
   "metadata": {},
   "source": [
    "We'll use GraphRBF as the kernel, a convolution kernel with a conv_width of 1 which just does pairwise comparisons between all the nodes in any two graphs. This is generally faster than the sequence convolution kernels but slower than Matern or RBF. As we did before, we'll use ``tune_hyperparams_crude`` to get a rough idea\n",
    "of where \"good\" hyperparameters are located and compare different kernels (if needed), then fine-tune.\n",
    "The GraphRBF kernel has a kernel setting we can use, \"averaging\", which is one of 'none' (default), 'sqrt', 'full'.\n",
    "See the available kernels page for more on what these do."
   ]
  },
  {
   "cell_type": "code",
   "execution_count": 8,
   "id": "4f531299",
   "metadata": {},
   "outputs": [
    {
     "name": "stdout",
     "output_type": "stream",
     "text": [
      "Grid point 0 acquired.\n",
      "Grid point 1 acquired.\n",
      "Grid point 2 acquired.\n",
      "Grid point 3 acquired.\n",
      "Grid point 4 acquired.\n",
      "Grid point 5 acquired.\n",
      "Grid point 6 acquired.\n",
      "Grid point 7 acquired.\n",
      "Grid point 8 acquired.\n",
      "Grid point 9 acquired.\n",
      "New hparams: [0.9146764]\n",
      "Additional acquisition 10.\n",
      "New hparams: [0.0392626]\n",
      "Additional acquisition 11.\n",
      "New hparams: [0.400479]\n",
      "Additional acquisition 12.\n",
      "New hparams: [0.4277992]\n",
      "Best score achieved: -283592.332\n",
      "Best hyperparams: [-5.0470805  0.400479 ]\n"
     ]
    }
   ],
   "source": [
    "init_model = xGPReg(num_rffs = 1024, variance_rffs = 512,\n",
    "                   kernel_choice = \"GraphRBF\", verbose = True,\n",
    "                   device = \"gpu\", kernel_settings={\"averaging\":'none'})\n",
    "\n",
    "best_hparams, _, best_score = init_model.tune_hyperparams_crude(train_dset)"
   ]
  },
  {
   "cell_type": "markdown",
   "id": "2880df88-5f9d-42a4-b659-4d6da811810f",
   "metadata": {},
   "source": [
    "Now let's fine tune this using more random features. We could use the built-in\n",
    "``model.tune_hyperparams`` as we did in the tabular data example or use Optuna as we did\n",
    "in the sequence example. Or we could just do simple grid search in the region around\n",
    "the best hyperparameters identified so far. For illustrative purposes here, we'll\n",
    "do a simple grid search.\n",
    "\n",
    "One helpful thing to keep in mind: We know this data is nearly noise-free, and the fact\n",
    "that crude tuning selected a small value for the first hyperparameter (lambda_) suggests\n",
    "we don't need much regularization, so optimal values for lambda_ are probably going to be\n",
    "small (depending on what sigma is). We don't usually want to set lambda_ to much below -6.91 (log_e (1e-3)) for numerical\n",
    "stability reasons. These considerations will help us with our search."
   ]
  },
  {
   "cell_type": "code",
   "execution_count": 9,
   "id": "b6602870",
   "metadata": {},
   "outputs": [
    {
     "name": "stdout",
     "output_type": "stream",
     "text": [
      "Evaluated NMLL.\n",
      "-319093.1216160262\n",
      "Evaluated NMLL.\n",
      "-326097.49449996534\n",
      "Evaluated NMLL.\n",
      "-331101.4514573452\n",
      "Evaluated NMLL.\n",
      "-333512.70311764744\n",
      "Evaluated NMLL.\n",
      "-334653.93934065715\n",
      "Evaluated NMLL.\n",
      "-332053.80412010854\n",
      "Evaluated NMLL.\n",
      "-316201.51641733653\n",
      "Evaluated NMLL.\n",
      "-323820.59778274\n",
      "Evaluated NMLL.\n",
      "-329713.8900034793\n",
      "Evaluated NMLL.\n",
      "-333159.7500780296\n",
      "Evaluated NMLL.\n",
      "-335099.9976268808\n",
      "Evaluated NMLL.\n",
      "-333009.5351321114\n",
      "Evaluated NMLL.\n",
      "-309841.8789297951\n",
      "Evaluated NMLL.\n",
      "-318345.55931628036\n",
      "Evaluated NMLL.\n",
      "-325673.7924991411\n",
      "Evaluated NMLL.\n",
      "-331110.3054695079\n",
      "Evaluated NMLL.\n",
      "-335068.9419137342\n",
      "Evaluated NMLL.\n",
      "-334766.26367834426\n"
     ]
    }
   ],
   "source": [
    "lambda_grid = [-6.25, -6., -5.5]\n",
    "sigma_grid = [0., 0.25, 0.5, 0.75, 1, 1.5]\n",
    "\n",
    "nmll_grid = np.zeros((len(lambda_grid), len(sigma_grid)))\n",
    "\n",
    "init_model.num_rffs = 4096\n",
    "\n",
    "for i, lambda_ in enumerate(lambda_grid):\n",
    "    for j, sigma in enumerate(sigma_grid):\n",
    "        nmll_grid[i,j] = init_model.exact_nmll(np.array([lambda_, sigma]), train_dset)\n",
    "        print(nmll_grid[i,j])"
   ]
  },
  {
   "cell_type": "markdown",
   "id": "8e99fbc0-77db-4078-ae73-6b857be291f9",
   "metadata": {},
   "source": [
    "Let's visualize the NMLL scores calculated by the gridsearch. Lower is better."
   ]
  },
  {
   "cell_type": "code",
   "execution_count": 10,
   "id": "6cafb36d-ea48-47d6-a8d8-66f41e16f9a4",
   "metadata": {},
   "outputs": [
    {
     "data": {
      "image/png": "[encoded data removed]",
      "text/plain": [
       "<Figure size 640x480 with 2 Axes>"
      ]
     },
     "metadata": {},
     "output_type": "display_data"
    }
   ],
   "source": [
    "plt.style.use(\"bmh\")\n",
    "\n",
    "plt.imshow(nmll_grid.T, aspect=\"auto\")\n",
    "plt.xticks(np.arange(len(lambda_grid)), lambda_grid)\n",
    "plt.yticks(np.arange(len(sigma_grid)), sigma_grid)\n",
    "plt.xlabel(\"Lambda values\")\n",
    "plt.ylabel(\"Sigma values\")\n",
    "plt.title(\"NMLL for different hyperparameter values\")\n",
    "plt.colorbar()\n",
    "plt.show()"
   ]
  },
  {
   "cell_type": "markdown",
   "id": "40f9d49b-ec5b-4344-91e0-3021d60a66fb",
   "metadata": {},
   "source": [
    "We might be able to do even better by expanding the search slighly in that direction, by using the ```tune_hyperparams``` routine\n",
    "in xGPR with the Powell method to further fine-tune, or by using more RFFs to more accurately estimate the NMLL. For now, though, since this is just a demo, we'll just set to the best value we found and then fit."
   ]
  },
  {
   "cell_type": "code",
   "execution_count": 11,
   "id": "34443400",
   "metadata": {},
   "outputs": [],
   "source": [
    "init_model.set_hyperparams(np.array([-6., 1.]), train_dset)"
   ]
  },
  {
   "cell_type": "markdown",
   "id": "3fae07a4",
   "metadata": {},
   "source": [
    "We use a tighter tol than usual here, since the data is noise-free\n",
    "enough that small improvements in accuracy matter. (Note that\n",
    "tol = 1e-8 is usually overkill however; 1e-7 is generally\n",
    "tight enough)."
   ]
  },
  {
   "cell_type": "code",
   "execution_count": 12,
   "id": "855cee2f",
   "metadata": {},
   "outputs": [
    {
     "name": "stdout",
     "output_type": "stream",
     "text": [
      "starting fitting\n",
      "Chunk 0 complete.\n",
      "Chunk 10 complete.\n",
      "Chunk 20 complete.\n",
      "Chunk 30 complete.\n",
      "Chunk 40 complete.\n",
      "Chunk 50 complete.\n",
      "Chunk 60 complete.\n",
      "Chunk 70 complete.\n",
      "Chunk 80 complete.\n",
      "Chunk 90 complete.\n",
      "Chunk 100 complete.\n",
      "Chunk 0 complete.\n",
      "Chunk 10 complete.\n",
      "Chunk 20 complete.\n",
      "Chunk 30 complete.\n",
      "Chunk 40 complete.\n",
      "Chunk 50 complete.\n",
      "Chunk 60 complete.\n",
      "Chunk 70 complete.\n",
      "Chunk 80 complete.\n",
      "Chunk 90 complete.\n",
      "Chunk 100 complete.\n",
      "Chunk 0 complete.\n",
      "Chunk 10 complete.\n",
      "Chunk 20 complete.\n",
      "Chunk 30 complete.\n",
      "Chunk 40 complete.\n",
      "Chunk 50 complete.\n",
      "Chunk 60 complete.\n",
      "Chunk 70 complete.\n",
      "Chunk 80 complete.\n",
      "Chunk 90 complete.\n",
      "Chunk 100 complete.\n",
      "Chunk 0 complete.\n",
      "Chunk 10 complete.\n",
      "Chunk 20 complete.\n",
      "Chunk 30 complete.\n",
      "Chunk 40 complete.\n",
      "Chunk 50 complete.\n",
      "Chunk 60 complete.\n",
      "Chunk 70 complete.\n",
      "Chunk 80 complete.\n",
      "Chunk 90 complete.\n",
      "Chunk 100 complete.\n",
      "Chunk 0 complete.\n",
      "Chunk 10 complete.\n",
      "Chunk 20 complete.\n",
      "Chunk 30 complete.\n",
      "Chunk 40 complete.\n",
      "Chunk 50 complete.\n",
      "Chunk 60 complete.\n",
      "Chunk 70 complete.\n",
      "Chunk 80 complete.\n",
      "Chunk 90 complete.\n",
      "Chunk 100 complete.\n",
      "Using rank: 2560\n",
      "Chunk 0 complete.\n",
      "Chunk 10 complete.\n",
      "Chunk 20 complete.\n",
      "Chunk 30 complete.\n",
      "Chunk 40 complete.\n",
      "Chunk 50 complete.\n",
      "Chunk 60 complete.\n",
      "Chunk 70 complete.\n",
      "Chunk 80 complete.\n",
      "Chunk 90 complete.\n",
      "Chunk 100 complete.\n",
      "Iteration 0\n",
      "Iteration 5\n",
      "Iteration 10\n",
      "Iteration 15\n",
      "Iteration 20\n",
      "Iteration 25\n",
      "Iteration 30\n",
      "Iteration 35\n",
      "Now performing variance calculations...\n",
      "Fitting complete.\n",
      "Wallclock: 73.45020246505737\n"
     ]
    }
   ],
   "source": [
    "init_model.num_rffs = 8192\n",
    "start_time = time.time()\n",
    "init_model.fit(train_dset, mode = 'cg', tol=1e-7)\n",
    "end_time = time.time()\n",
    "print(f\"Wallclock: {end_time - start_time}\")"
   ]
  },
  {
   "cell_type": "code",
   "execution_count": 13,
   "id": "16eaf7cc",
   "metadata": {},
   "outputs": [
    {
     "name": "stdout",
     "output_type": "stream",
     "text": [
      "Wallclock: 1.302701711654663\n",
      "Mean absolute error:\n",
      "1.41641\n"
     ]
    }
   ],
   "source": [
    "start_time = time.time()\n",
    "all_preds, ground_truth = [], []\n",
    "for xfile, yfile, sfile in zip(train_x_files, train_y_files, train_seqlen_files):\n",
    "    ground_truth.append(np.load(yfile))\n",
    "    preds = init_model.predict(np.load(xfile), np.load(sfile).astype(np.int32), get_var = False)\n",
    "    all_preds.append(preds)\n",
    "    \n",
    "all_preds, ground_truth = np.concatenate(all_preds), np.concatenate(ground_truth)\n",
    "end_time = time.time()\n",
    "print(f\"Wallclock: {end_time - start_time}\")\n",
    "\n",
    "\n",
    "print(\"Mean absolute error:\")\n",
    "print(np.round(np.mean(np.abs(all_preds - ground_truth)), 5))"
   ]
  },
  {
   "cell_type": "code",
   "execution_count": null,
   "id": "869092ab-df04-4ee5-9e89-107e9ffb922c",
   "metadata": {},
   "outputs": [],
   "source": []
  },
  {
   "cell_type": "code",
   "execution_count": null,
   "id": "7d3de4b7-5819-4670-a956-eda237713e5c",
   "metadata": {},
   "outputs": [],
   "source": []
  },
  {
   "cell_type": "markdown",
   "id": "b376ffa6",
   "metadata": {},
   "source": [
    "Not bad...for a start. We're already at an MAE of about 1.4 (\"chemical accuracy\" is widely considered to be\n",
    "1 kcal/mol). We're already outperforming the deep learning models described in the MoleculeNet paper using a simple stupid approach\n",
    "(one-hot encoded atoms) that really shouldn't work as well as it did. Let's see how we can make this better using the existing features (without doing more feature engineering).\n",
    "\n",
    "We can increase the number of random features for fitting, and /or we can further fine-tune our hyperparameters using\n",
    "more RFFs. Let's do both. Normally we don't usually fine tune with significantly more RFFs than 8192 because gains\n",
    "in performance are just too small (although you can). For fitting, by contrast, going up to 16384 or even 32768 RFFs can\n",
    "yield some additional performance gains (although it will slow fitting down somewhat). Notice that we use the\n",
    "hyperparameters we found from the grid search as a starting point."
   ]
  },
  {
   "cell_type": "code",
   "execution_count": 14,
   "id": "16a59b69-d662-4e8d-b24c-d60dda6f3899",
   "metadata": {},
   "outputs": [
    {
     "name": "stdout",
     "output_type": "stream",
     "text": [
      "Evaluated NMLL.\n",
      "Evaluated NMLL.\n",
      "Evaluated NMLL.\n",
      "Evaluated NMLL.\n",
      "Evaluated NMLL.\n",
      "Evaluated NMLL.\n",
      "Evaluated NMLL.\n",
      "Evaluated NMLL.\n",
      "Evaluated NMLL.\n",
      "Evaluated NMLL.\n",
      "Evaluated NMLL.\n",
      "Evaluated NMLL.\n",
      "Evaluated NMLL.\n",
      "Evaluated NMLL.\n",
      "Evaluated NMLL.\n",
      "Evaluated NMLL.\n",
      "Evaluated NMLL.\n",
      "Evaluated NMLL.\n",
      "Evaluated NMLL.\n",
      "Evaluated NMLL.\n",
      "Evaluated NMLL.\n",
      "Best score: -355759.8832303471\n"
     ]
    },
    {
     "data": {
      "text/plain": [
       "(array([-6.67864433,  1.0367744 ]), 21, -355759.8832303471)"
      ]
     },
     "execution_count": 14,
     "metadata": {},
     "output_type": "execute_result"
    }
   ],
   "source": [
    "init_model.num_rffs = 8192\n",
    "init_model.tune_hyperparams(train_dset, tuning_method=\"Powell\", nmll_method=\"exact\",\n",
    "                            max_iter = 40, starting_hyperparams = np.array([-6., 1.]) )"
   ]
  },
  {
   "cell_type": "code",
   "execution_count": 15,
   "id": "b04e08ca",
   "metadata": {},
   "outputs": [
    {
     "name": "stdout",
     "output_type": "stream",
     "text": [
      "starting fitting\n",
      "Chunk 0 complete.\n",
      "Chunk 10 complete.\n",
      "Chunk 20 complete.\n",
      "Chunk 30 complete.\n",
      "Chunk 40 complete.\n",
      "Chunk 50 complete.\n",
      "Chunk 60 complete.\n",
      "Chunk 70 complete.\n",
      "Chunk 80 complete.\n",
      "Chunk 90 complete.\n",
      "Chunk 100 complete.\n",
      "Chunk 0 complete.\n",
      "Chunk 10 complete.\n",
      "Chunk 20 complete.\n",
      "Chunk 30 complete.\n",
      "Chunk 40 complete.\n",
      "Chunk 50 complete.\n",
      "Chunk 60 complete.\n",
      "Chunk 70 complete.\n",
      "Chunk 80 complete.\n",
      "Chunk 90 complete.\n",
      "Chunk 100 complete.\n",
      "Chunk 0 complete.\n",
      "Chunk 10 complete.\n",
      "Chunk 20 complete.\n",
      "Chunk 30 complete.\n",
      "Chunk 40 complete.\n",
      "Chunk 50 complete.\n",
      "Chunk 60 complete.\n",
      "Chunk 70 complete.\n",
      "Chunk 80 complete.\n",
      "Chunk 90 complete.\n",
      "Chunk 100 complete.\n",
      "Chunk 0 complete.\n",
      "Chunk 10 complete.\n",
      "Chunk 20 complete.\n",
      "Chunk 30 complete.\n",
      "Chunk 40 complete.\n",
      "Chunk 50 complete.\n",
      "Chunk 60 complete.\n",
      "Chunk 70 complete.\n",
      "Chunk 80 complete.\n",
      "Chunk 90 complete.\n",
      "Chunk 100 complete.\n",
      "Chunk 0 complete.\n",
      "Chunk 10 complete.\n",
      "Chunk 20 complete.\n",
      "Chunk 30 complete.\n",
      "Chunk 40 complete.\n",
      "Chunk 50 complete.\n",
      "Chunk 60 complete.\n",
      "Chunk 70 complete.\n",
      "Chunk 80 complete.\n",
      "Chunk 90 complete.\n",
      "Chunk 100 complete.\n",
      "Using rank: 3000\n",
      "Chunk 0 complete.\n",
      "Chunk 10 complete.\n",
      "Chunk 20 complete.\n",
      "Chunk 30 complete.\n",
      "Chunk 40 complete.\n",
      "Chunk 50 complete.\n",
      "Chunk 60 complete.\n",
      "Chunk 70 complete.\n",
      "Chunk 80 complete.\n",
      "Chunk 90 complete.\n",
      "Chunk 100 complete.\n",
      "Chunk 0 complete.\n",
      "Chunk 10 complete.\n",
      "Chunk 20 complete.\n",
      "Chunk 30 complete.\n",
      "Chunk 40 complete.\n",
      "Chunk 50 complete.\n",
      "Chunk 60 complete.\n",
      "Chunk 70 complete.\n",
      "Chunk 80 complete.\n",
      "Chunk 90 complete.\n",
      "Chunk 100 complete.\n",
      "Iteration 0\n",
      "Iteration 5\n",
      "Iteration 10\n",
      "Iteration 15\n",
      "Iteration 20\n",
      "Now performing variance calculations...\n",
      "Fitting complete.\n"
     ]
    }
   ],
   "source": [
    "init_model.num_rffs = 16384\n",
    "init_model.fit(train_dset, mode = 'cg', tol=1e-7)"
   ]
  },
  {
   "cell_type": "code",
   "execution_count": null,
   "id": "353a0c51",
   "metadata": {},
   "outputs": [],
   "source": []
  },
  {
   "cell_type": "code",
   "execution_count": 16,
   "id": "eea04f43",
   "metadata": {},
   "outputs": [
    {
     "name": "stdout",
     "output_type": "stream",
     "text": [
      "Wallclock: 0.38074636459350586\n",
      "Mean absolute error:\n",
      "1.3061\n"
     ]
    }
   ],
   "source": [
    "start_time = time.time()\n",
    "all_preds, ground_truth = [], []\n",
    "for xfile, yfile, sfile in zip(test_x_files, test_y_files, test_seqlen_files):\n",
    "    x, y, s = np.load(xfile), np.load(yfile), np.load(sfile)\n",
    "    ground_truth.append(y)\n",
    "    preds = init_model.predict(x, s, get_var = False)\n",
    "    all_preds.append(preds)\n",
    "    \n",
    "all_preds, ground_truth = np.concatenate(all_preds), np.concatenate(ground_truth)\n",
    "end_time = time.time()\n",
    "print(f\"Wallclock: {end_time - start_time}\")\n",
    "\n",
    "print(\"Mean absolute error:\")\n",
    "print(np.round(np.mean(np.abs(all_preds - ground_truth)), 4))"
   ]
  },
  {
   "cell_type": "code",
   "execution_count": 17,
   "id": "f7d9b572",
   "metadata": {},
   "outputs": [
    {
     "data": {
      "text/plain": [
       "Text(0.5, 1.0, 'Predicted vs actual post fine-tuning,\\nfitting with 16384 random features')"
      ]
     },
     "execution_count": 17,
     "metadata": {},
     "output_type": "execute_result"
    },
    {
     "data": {
      "image/png": "[encoded data removed]",
      "text/plain": [
       "<Figure size 640x480 with 1 Axes>"
      ]
     },
     "metadata": {},
     "output_type": "display_data"
    }
   ],
   "source": [
    "plt.style.use(\"bmh\")\n",
    "plt.scatter(all_preds, ground_truth, s = 5)\n",
    "plt.xlabel(\"Predictions\")\n",
    "plt.ylabel(\"Ground truth\")\n",
    "plt.title(\"Predicted vs actual post fine-tuning,\\nfitting with 16384 random features\")"
   ]
  },
  {
   "cell_type": "markdown",
   "id": "351269ee",
   "metadata": {},
   "source": [
    "Retuning helped -- we're down to a mean absolute error of 1.3 kcal/mol, substantially better than any of the MoleculeNet deep learning models.\n",
    "\n",
    "Just for fun, let's see what happens if we fit with 2x more random features. This will result in slower fitting, and will make generating predictions slower. As always, remember that increasing the number of RFFs for either tuning or\n",
    "fitting provides diminishing returns -- going from 4096 to 8192 provides a more significant boost than going from 8192 to 16384 and so on."
   ]
  },
  {
   "cell_type": "code",
   "execution_count": 18,
   "id": "54dd74fd",
   "metadata": {},
   "outputs": [
    {
     "name": "stdout",
     "output_type": "stream",
     "text": [
      "starting fitting\n",
      "Chunk 0 complete.\n",
      "Chunk 10 complete.\n",
      "Chunk 20 complete.\n",
      "Chunk 30 complete.\n",
      "Chunk 40 complete.\n",
      "Chunk 50 complete.\n",
      "Chunk 60 complete.\n",
      "Chunk 70 complete.\n",
      "Chunk 80 complete.\n",
      "Chunk 90 complete.\n",
      "Chunk 100 complete.\n",
      "Chunk 0 complete.\n",
      "Chunk 10 complete.\n",
      "Chunk 20 complete.\n",
      "Chunk 30 complete.\n",
      "Chunk 40 complete.\n",
      "Chunk 50 complete.\n",
      "Chunk 60 complete.\n",
      "Chunk 70 complete.\n",
      "Chunk 80 complete.\n",
      "Chunk 90 complete.\n",
      "Chunk 100 complete.\n",
      "Chunk 0 complete.\n",
      "Chunk 10 complete.\n",
      "Chunk 20 complete.\n",
      "Chunk 30 complete.\n",
      "Chunk 40 complete.\n",
      "Chunk 50 complete.\n",
      "Chunk 60 complete.\n",
      "Chunk 70 complete.\n",
      "Chunk 80 complete.\n",
      "Chunk 90 complete.\n",
      "Chunk 100 complete.\n",
      "Chunk 0 complete.\n",
      "Chunk 10 complete.\n",
      "Chunk 20 complete.\n",
      "Chunk 30 complete.\n",
      "Chunk 40 complete.\n",
      "Chunk 50 complete.\n",
      "Chunk 60 complete.\n",
      "Chunk 70 complete.\n",
      "Chunk 80 complete.\n",
      "Chunk 90 complete.\n",
      "Chunk 100 complete.\n",
      "Chunk 0 complete.\n",
      "Chunk 10 complete.\n",
      "Chunk 20 complete.\n",
      "Chunk 30 complete.\n",
      "Chunk 40 complete.\n",
      "Chunk 50 complete.\n",
      "Chunk 60 complete.\n",
      "Chunk 70 complete.\n",
      "Chunk 80 complete.\n",
      "Chunk 90 complete.\n",
      "Chunk 100 complete.\n",
      "Using rank: 3000\n",
      "Chunk 0 complete.\n",
      "Chunk 10 complete.\n",
      "Chunk 20 complete.\n",
      "Chunk 30 complete.\n",
      "Chunk 40 complete.\n",
      "Chunk 50 complete.\n",
      "Chunk 60 complete.\n",
      "Chunk 70 complete.\n",
      "Chunk 80 complete.\n",
      "Chunk 90 complete.\n",
      "Chunk 100 complete.\n",
      "Chunk 0 complete.\n",
      "Chunk 10 complete.\n",
      "Chunk 20 complete.\n",
      "Chunk 30 complete.\n",
      "Chunk 40 complete.\n",
      "Chunk 50 complete.\n",
      "Chunk 60 complete.\n",
      "Chunk 70 complete.\n",
      "Chunk 80 complete.\n",
      "Chunk 90 complete.\n",
      "Chunk 100 complete.\n",
      "Iteration 0\n",
      "Iteration 5\n",
      "Iteration 10\n",
      "Iteration 15\n",
      "Iteration 20\n",
      "Iteration 25\n",
      "Iteration 30\n",
      "Iteration 35\n",
      "Iteration 40\n",
      "Iteration 45\n",
      "Iteration 50\n",
      "Now performing variance calculations...\n",
      "Fitting complete.\n"
     ]
    }
   ],
   "source": [
    "init_model.num_rffs = 32768\n",
    "init_model.fit(train_dset, mode = 'cg', tol=1e-7)"
   ]
  },
  {
   "cell_type": "code",
   "execution_count": null,
   "id": "fc399188-5438-48a8-aa44-c001c8ad968a",
   "metadata": {},
   "outputs": [],
   "source": []
  },
  {
   "cell_type": "code",
   "execution_count": 19,
   "id": "d7713206",
   "metadata": {},
   "outputs": [
    {
     "name": "stdout",
     "output_type": "stream",
     "text": [
      "Wallclock: 0.7602884769439697\n",
      "Mean absolute error:\n",
      "1.1793\n"
     ]
    }
   ],
   "source": [
    "start_time = time.time()\n",
    "all_preds, ground_truth = [], []\n",
    "for xfile, yfile, sfile in zip(test_x_files, test_y_files, test_seqlen_files):\n",
    "    x, y, s = np.load(xfile), np.load(yfile), np.load(sfile)\n",
    "    ground_truth.append(y)\n",
    "    preds = init_model.predict(x, s, get_var = False)\n",
    "    all_preds.append(preds)\n",
    "    \n",
    "all_preds, ground_truth = np.concatenate(all_preds), np.concatenate(ground_truth)\n",
    "end_time = time.time()\n",
    "print(f\"Wallclock: {end_time - start_time}\")\n",
    "\n",
    "print(\"Mean absolute error:\")\n",
    "print(np.round(np.mean(np.abs(all_preds - ground_truth)), 4))"
   ]
  },
  {
   "cell_type": "code",
   "execution_count": 20,
   "id": "a8d56dc4",
   "metadata": {},
   "outputs": [
    {
     "data": {
      "text/plain": [
       "Text(0.5, 1.0, 'Predicted vs actual post fine-tuning,\\nfitting with 32768 random features')"
      ]
     },
     "execution_count": 20,
     "metadata": {},
     "output_type": "execute_result"
    },
    {
     "data": {
      "image/png": "[encoded data removed]",
      "text/plain": [
       "<Figure size 640x480 with 1 Axes>"
      ]
     },
     "metadata": {},
     "output_type": "display_data"
    }
   ],
   "source": [
    "plt.style.use(\"bmh\")\n",
    "plt.scatter(all_preds, ground_truth, s = 5)\n",
    "plt.xlabel(\"Predictions\")\n",
    "plt.ylabel(\"Ground truth\")\n",
    "plt.title(\"Predicted vs actual post fine-tuning,\\nfitting with 32768 random features\")"
   ]
  },
  {
   "cell_type": "markdown",
   "id": "c73f4ca4",
   "metadata": {},
   "source": [
    "The mean absolute error is surprisingly close to 1 kcal/mol -- given that we're using a generic convolution kernel with one-hot encoded input. And we can still make predictions for 20,000 molecules in under a second on GPU.\n",
    "\n",
    "We can improve on this further by doing some more hyperparameter tuning\n",
    "or increasing the number of fitting RFFs, but these will just provides some incremental improvement (recall that\n",
    "increasing the number of random features provides diminishing returns). So, further tweaking might give us some additional small improvement, but it's very unlikely to get us down to 0.5 or 0.25 kcal/mol (if that was our goal). Once we've fine-tuned with 8192 RFFs and fitted using a decent number of RFFs (e.g. 16384), further improvements from \"tweaking\" are likely to be modest.\n",
    "\n",
    "To get a much larger improvement we need either a different kernel or (more likely) a more\n",
    "informative representation of the input molecules. The representation\n",
    "we used here discards all information about bond angles and is very uninformative.\n",
    "We've been able to reach < 0.17 kcal/mol using SOAP features\n",
    "(and there are other ways to do this as well). The same interestingly\n",
    "is true in this case for deep learning models -- deep learning models provided with\n",
    "uninformative representations (e.g. one hot encoding) often perform much worse than\n",
    "xGPR does here (see the MoleculeNet paper for example). So, for both deep learning and\n",
    "GPs, predicting energy with MAE << 1 kcal/mol seems to require informative features."
   ]
  },
  {
   "cell_type": "code",
   "execution_count": null,
   "id": "a4d8e864",
   "metadata": {},
   "outputs": [],
   "source": []
  },
  {
   "cell_type": "code",
   "execution_count": null,
   "id": "7f045079",
   "metadata": {},
   "outputs": [],
   "source": []
  }
 ],
 "metadata": {
  "kernelspec": {
   "display_name": "Python 3 (ipykernel)",
   "language": "python",
   "name": "python3"
  },
  "language_info": {
   "codemirror_mode": {
    "name": "ipython",
    "version": 3
   },
   "file_extension": ".py",
   "mimetype": "text/x-python",
   "name": "python",
   "nbconvert_exporter": "python",
   "pygments_lexer": "ipython3",
   "version": "3.10.12"
  }
 },
 "nbformat": 4,
 "nbformat_minor": 5
}
